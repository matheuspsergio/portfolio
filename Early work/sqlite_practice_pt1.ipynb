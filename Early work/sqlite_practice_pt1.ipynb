{
 "cells": [
  {
   "cell_type": "markdown",
   "metadata": {},
   "source": [
    "# How much did Brazil export in algae products in 2019?\n",
    "\n",
    "\n",
    "This is a simple exercise I created to get familiar with SQL in which I create a database with 2 tables and proceed to extract some information. The dataset is relative to Brazilian exports in the year of 2019.\n",
    "\n",
    "###  Tables:\n",
    "+ Keys- A \"dictionary\" with products codes and their meaning\n",
    "+ Dataset- The dataset itself\n",
    "\n",
    "I'll try 2 different methods to create tables in the database:\n",
    "\n",
    "1- Pandas - The simplest and easiest way, though very memory cosnuming and inapropriate for large datasest (table keys)\n",
    "\n",
    "2- Python subprocesses- Using sqlite through python, which much more efficient (table dataset)\n",
    "\n",
    "\n",
    "For this part, this was main resource: https://stackoverflow.com/questions/2887878/importing-a-csv-file-into-a-sqlite3-database-table-using-python\n",
    "\n",
    "pandas documentation: https://pandas.pydata.org/docs/reference/api/pandas.DataFrame.to_sql.html\n",
    "\n",
    "https://medium.com/analytics-vidhya/programming-with-databases-in-python-using-sqlite-4cecbef51ab9"
   ]
  },
  {
   "cell_type": "code",
   "execution_count": 1,
   "metadata": {},
   "outputs": [],
   "source": [
    "import sqlite3\n",
    "import numpy as np\n",
    "import pandas as pd\n",
    "import subprocess\n",
    "from pathlib import Path"
   ]
  },
  {
   "cell_type": "code",
   "execution_count": 2,
   "metadata": {},
   "outputs": [],
   "source": [
    "#starting everything needed to use sqlite3 inside python\n",
    "connection= sqlite3.connect('C:/Users/mathe/documents/secomex.db')\n",
    "\n",
    "cursor= connection.cursor()"
   ]
  },
  {
   "cell_type": "code",
   "execution_count": 3,
   "metadata": {},
   "outputs": [],
   "source": [
    "#Method 1- Pandas (creating keys table)\n",
    "\n",
    "#specifying chunk size may help when dealing with large datasets\n",
    "pd.read_csv('C:/Users/mathe/documents/NCM.csv', sep=';', encoding='latin-1').to_sql(name='keys', con= connection,\n",
    "                                                                     if_exists='append', index=False)"
   ]
  },
  {
   "cell_type": "code",
   "execution_count": 5,
   "metadata": {},
   "outputs": [],
   "source": [
    "#Method 2- Subprocess- it didn't work\n",
    "#It might has something to do with the --skip 1 or the whole import part\n",
    "db_name = Path('C:/Users/mathe/documents/secomex.db').resolve()\n",
    "csv_file = Path('C:/Users/mathe/documents/EXP_2019.csv').resolve()\n",
    "result = subprocess.run(['sqlite3',\n",
    "                         str('C:/Users/mathe/documents/secomex.db'),\n",
    "                         '-cmd',\n",
    "                         '.mode csv',\n",
    "                         '.import' + str(csv_file).replace('\\\\','\\\\\\\\')\n",
    "                                 +' <dataset>'],\n",
    "                        capture_output=True)\n",
    "\n",
    "#saving changes\n",
    "connection.commit()\n",
    "connection.close()"
   ]
  },
  {
   "cell_type": "markdown",
   "metadata": {},
   "source": [
    "What I've found so far\n",
    "\n",
    "-At first, Method 2 didn't work because of the --skip 1 bit, it might has something to do sqlite version<br>\n",
    "-Deleting it fixed the issue and the table was created.<br>\n",
    "-However, using the import csv doesn't allow me to choose the data types I want. This didn't happen when I used to_sql, because it used the dataframe to import and it identifies the correct data types<br>\n",
    "-Therefore, next step is to create a table where a I can choose data types using a sql script<br>\n",
    "-Lastly, I'll run SQL queries in sqlite3"
   ]
  },
  {
   "cell_type": "code",
   "execution_count": null,
   "metadata": {},
   "outputs": [],
   "source": []
  }
 ],
 "metadata": {
  "kernelspec": {
   "display_name": "Python 3",
   "language": "python",
   "name": "python3"
  },
  "language_info": {
   "codemirror_mode": {
    "name": "ipython",
    "version": 3
   },
   "file_extension": ".py",
   "mimetype": "text/x-python",
   "name": "python",
   "nbconvert_exporter": "python",
   "pygments_lexer": "ipython3",
   "version": "3.7.2"
  }
 },
 "nbformat": 4,
 "nbformat_minor": 2
}
