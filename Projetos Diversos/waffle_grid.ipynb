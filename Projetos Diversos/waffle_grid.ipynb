{
 "cells": [
  {
   "cell_type": "code",
   "execution_count": 7,
   "metadata": {},
   "outputs": [],
   "source": [
    "#libs\n",
    "import numpy as np\n",
    "import csv"
   ]
  },
  {
   "cell_type": "code",
   "execution_count": 288,
   "metadata": {},
   "outputs": [],
   "source": [
    "#body of the function, should only change the name of the file orp ath\n",
    "def create_waffle(rows, columns):\n",
    "    #storing the total size in a variable for code readability\n",
    "    total_size = rows*columns\n",
    "\n",
    "    #size of the grid in a 1D\n",
    "    grid = np.arange(start =1, stop = rows * columns +1,)\n",
    "\n",
    "    #getting the percentagem of each respective position in the list\n",
    "    percentage = [position/total_size for position in grid]\n",
    "    \n",
    "    #this part is dumb, but so is the way tableau handles data\n",
    "    rows_column = []\n",
    "    columns_column= []\n",
    "    \n",
    "    #populating the rows_column and column_columns lists\n",
    "    for i in range(rows):\n",
    "        for j in range(columns):\n",
    "            rows_column.append(i)\n",
    "            columns_column.append(j)\n",
    "    \n",
    "    #combining lists into a tuple- will be used to write the csv below\n",
    "    zipped_list = zip(columns_column, rows_column, percentage)\n",
    "    \n",
    "    #saving the lists into a csv, one row at a time\n",
    "    with open('custom_grid.csv', 'w', encoding = 'UTF8', newline='') as f:\n",
    "        writer = csv.writer(f)\n",
    "        writer.writerow((\"column\", \"row\", \"percentage\"))\n",
    "        writer.writerows(zipped_list)\n",
    "    f.close()"
   ]
  },
  {
   "cell_type": "code",
   "execution_count": 289,
   "metadata": {},
   "outputs": [],
   "source": [
    "#actually using the funciton, here you actually choose the shape of the grid\n",
    "create_waffle(3, 10)"
   ]
  },
  {
   "cell_type": "code",
   "execution_count": null,
   "metadata": {},
   "outputs": [],
   "source": []
  }
 ],
 "metadata": {
  "kernelspec": {
   "display_name": "Python 3",
   "language": "python",
   "name": "python3"
  },
  "language_info": {
   "codemirror_mode": {
    "name": "ipython",
    "version": 3
   },
   "file_extension": ".py",
   "mimetype": "text/x-python",
   "name": "python",
   "nbconvert_exporter": "python",
   "pygments_lexer": "ipython3",
   "version": "3.7.2"
  }
 },
 "nbformat": 4,
 "nbformat_minor": 2
}
