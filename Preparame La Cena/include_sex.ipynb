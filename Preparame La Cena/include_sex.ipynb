{
 "cells": [
  {
   "cell_type": "markdown",
   "metadata": {},
   "source": [
    "The main goal here is to add the sex of each missing person, as this wasn't avaible in the police website. In order to do that, a reference dataset with names and the respective sex was used to populate the sex column in the missing person dataset.\n",
    "Note that same names may be suitable for both sexes, I didn't take that into consideration (but it's fairly easy to do that)"
   ]
  },
  {
   "cell_type": "code",
   "execution_count": 1,
   "metadata": {},
   "outputs": [],
   "source": [
    "import pandas as pd"
   ]
  },
  {
   "cell_type": "code",
   "execution_count": 2,
   "metadata": {},
   "outputs": [],
   "source": [
    "header = ['name', 'age', 'place', 'found', 'dead', 'active', 'obs']\n",
    "df = pd.read_csv('teste.csv', encoding='utf8', names = header)\n",
    "nomes = pd.read_csv('nomes.csv', encoding='utf8')"
   ]
  },
  {
   "cell_type": "code",
   "execution_count": 3,
   "metadata": {},
   "outputs": [],
   "source": [
    "#create first name column\n",
    "df['first_name'] = [name.split()[0] for name in df.name]\n",
    "\n",
    "#create first letter column. theoretically it shouldn't be necessary, but thats the only way the query below worked\n",
    "nomes['first_letter'] = [name[0] for name in nomes.first_name] #Watch out! first letter is always upper case"
   ]
  },
  {
   "cell_type": "code",
   "execution_count": 53,
   "metadata": {},
   "outputs": [],
   "source": [
    "#create a list to store the sex of each name so we we can later add it to the dataframe\n",
    "sex = []\n",
    "for pessoa in df['first_name']:\n",
    "    # maybe we can avoid creating the first_letter column with smth liKe first_name[0] //but like that won't work\n",
    "    #creating a view with query so we don't have to always loop through the whole list nomes.first_letter, only same initial\n",
    "    view = nomes.query('first_letter == @pessoa[0]')\n",
    "    #search for a match between name of missing persons and name reference list\n",
    "    for counter, (target_name, target_sex) in enumerate(zip(view.first_name, view.classification)):\n",
    "        if pessoa == target_name:\n",
    "            sex.append(target_sex)\n",
    "            break\n",
    "        #this elif is to keep track if the loop is going to end with no matches found. if this happens, assign not found to sex\n",
    "        #The minus 1 is because of the index that starts at 0, but len doesn't!\n",
    "        elif counter == len(view)-1:\n",
    "            sex.append('not_found')\n",
    "        else:\n",
    "            continue"
   ]
  },
  {
   "cell_type": "code",
   "execution_count": 55,
   "metadata": {},
   "outputs": [],
   "source": [
    "#append the sex list to the actual df\n",
    "df['sex'] = sex"
   ]
  },
  {
   "cell_type": "code",
   "execution_count": 56,
   "metadata": {},
   "outputs": [],
   "source": [
    "df['sex'] = sex\n",
    "df.to_csv('teste2.csv', encoding='utf8')"
   ]
  },
  {
   "cell_type": "code",
   "execution_count": 26,
   "metadata": {},
   "outputs": [
    {
     "ename": "AttributeError",
     "evalue": "'float' object has no attribute 'find'",
     "output_type": "error",
     "traceback": [
      "\u001b[1;31m---------------------------------------------------------------------------\u001b[0m",
      "\u001b[1;31mAttributeError\u001b[0m                            Traceback (most recent call last)",
      "\u001b[1;32m<ipython-input-26-2cf82d3ab208>\u001b[0m in \u001b[0;36m<module>\u001b[1;34m\u001b[0m\n\u001b[0;32m      1\u001b[0m \u001b[1;32mfor\u001b[0m \u001b[0mname\u001b[0m \u001b[1;32min\u001b[0m \u001b[0mnomes\u001b[0m\u001b[1;33m[\u001b[0m\u001b[1;34m'alternative_names'\u001b[0m\u001b[1;33m]\u001b[0m\u001b[1;33m:\u001b[0m\u001b[1;33m\u001b[0m\u001b[1;33m\u001b[0m\u001b[0m\n\u001b[1;32m----> 2\u001b[1;33m     \u001b[0mname\u001b[0m\u001b[1;33m.\u001b[0m\u001b[0mfind\u001b[0m\u001b[1;33m(\u001b[0m\u001b[1;34m'ABILIO'\u001b[0m\u001b[1;33m)\u001b[0m\u001b[1;33m\u001b[0m\u001b[1;33m\u001b[0m\u001b[0m\n\u001b[0m",
      "\u001b[1;31mAttributeError\u001b[0m: 'float' object has no attribute 'find'"
     ]
    }
   ],
   "source": [
    "#howmuchtime = datetime.now- dateDisaprearence"
   ]
  }
 ],
 "metadata": {
  "kernelspec": {
   "display_name": "Python 3",
   "language": "python",
   "name": "python3"
  },
  "language_info": {
   "codemirror_mode": {
    "name": "ipython",
    "version": 3
   },
   "file_extension": ".py",
   "mimetype": "text/x-python",
   "name": "python",
   "nbconvert_exporter": "python",
   "pygments_lexer": "ipython3",
   "version": "3.7.2"
  }
 },
 "nbformat": 4,
 "nbformat_minor": 2
}
